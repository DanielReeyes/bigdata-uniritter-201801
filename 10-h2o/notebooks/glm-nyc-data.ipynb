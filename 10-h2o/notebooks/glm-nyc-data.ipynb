{
 "cells": [
  {
   "cell_type": "markdown",
   "metadata": {},
   "source": [
    "## H2O modo local"
   ]
  },
  {
   "cell_type": "markdown",
   "metadata": {},
   "source": [
    "#### Inicialização"
   ]
  },
  {
   "cell_type": "code",
   "execution_count": 1,
   "metadata": {
    "scrolled": true
   },
   "outputs": [
    {
     "name": "stdout",
     "output_type": "stream",
     "text": [
      "Checking whether there is an H2O instance running at http://localhost:54321..... not found.\n",
      "Attempting to start a local H2O server...\n",
      "; OpenJDK 64-Bit Server VM (Zulu 8.20.0.5-win64) (build 25.121-b15, mixed mode)\n",
      "  Starting server from C:\\Users\\alu201322578\\AppData\\Local\\conda\\conda\\envs\\Teste_aula\\h2o_jar\\h2o.jar\n",
      "  Ice root: C:\\Users\\AL9449~1\\AppData\\Local\\Temp\\tmperl88t5b\n",
      "  JVM stdout: C:\\Users\\AL9449~1\\AppData\\Local\\Temp\\tmperl88t5b\\h2o_ALU201322578_started_from_python.out\n",
      "  JVM stderr: C:\\Users\\AL9449~1\\AppData\\Local\\Temp\\tmperl88t5b\\h2o_ALU201322578_started_from_python.err\n",
      "  Server is running at http://127.0.0.1:54321\n",
      "Connecting to H2O server at http://127.0.0.1:54321... successful.\n",
      "Warning: Your H2O cluster version is too old (4 months and 2 days)! Please download and install the latest version from http://h2o.ai/download/\n"
     ]
    },
    {
     "data": {
      "text/html": [
       "<div style=\"overflow:auto\"><table style=\"width:50%\"><tr><td>H2O cluster uptime:</td>\n",
       "<td>02 secs</td></tr>\n",
       "<tr><td>H2O cluster timezone:</td>\n",
       "<td>America/Sao_Paulo</td></tr>\n",
       "<tr><td>H2O data parsing timezone:</td>\n",
       "<td>UTC</td></tr>\n",
       "<tr><td>H2O cluster version:</td>\n",
       "<td>3.18.0.2</td></tr>\n",
       "<tr><td>H2O cluster version age:</td>\n",
       "<td>4 months and 2 days !!!</td></tr>\n",
       "<tr><td>H2O cluster name:</td>\n",
       "<td>H2O_from_python_ALU201322578_pghwuz</td></tr>\n",
       "<tr><td>H2O cluster total nodes:</td>\n",
       "<td>1</td></tr>\n",
       "<tr><td>H2O cluster free memory:</td>\n",
       "<td>1.761 Gb</td></tr>\n",
       "<tr><td>H2O cluster total cores:</td>\n",
       "<td>4</td></tr>\n",
       "<tr><td>H2O cluster allowed cores:</td>\n",
       "<td>4</td></tr>\n",
       "<tr><td>H2O cluster status:</td>\n",
       "<td>accepting new members, healthy</td></tr>\n",
       "<tr><td>H2O connection url:</td>\n",
       "<td>http://127.0.0.1:54321</td></tr>\n",
       "<tr><td>H2O connection proxy:</td>\n",
       "<td>None</td></tr>\n",
       "<tr><td>H2O internal security:</td>\n",
       "<td>False</td></tr>\n",
       "<tr><td>H2O API Extensions:</td>\n",
       "<td>Algos, AutoML, Core V3, Core V4</td></tr>\n",
       "<tr><td>Python version:</td>\n",
       "<td>3.5.5 final</td></tr></table></div>"
      ],
      "text/plain": [
       "--------------------------  -----------------------------------\n",
       "H2O cluster uptime:         02 secs\n",
       "H2O cluster timezone:       America/Sao_Paulo\n",
       "H2O data parsing timezone:  UTC\n",
       "H2O cluster version:        3.18.0.2\n",
       "H2O cluster version age:    4 months and 2 days !!!\n",
       "H2O cluster name:           H2O_from_python_ALU201322578_pghwuz\n",
       "H2O cluster total nodes:    1\n",
       "H2O cluster free memory:    1.761 Gb\n",
       "H2O cluster total cores:    4\n",
       "H2O cluster allowed cores:  4\n",
       "H2O cluster status:         accepting new members, healthy\n",
       "H2O connection url:         http://127.0.0.1:54321\n",
       "H2O connection proxy:\n",
       "H2O internal security:      False\n",
       "H2O API Extensions:         Algos, AutoML, Core V3, Core V4\n",
       "Python version:             3.5.5 final\n",
       "--------------------------  -----------------------------------"
      ]
     },
     "metadata": {},
     "output_type": "display_data"
    }
   ],
   "source": [
    "import h2o\n",
    "\n",
    "h2o.init()"
   ]
  },
  {
   "cell_type": "markdown",
   "metadata": {},
   "source": [
    "#### Carga dos dados de arquivo CSV"
   ]
  },
  {
   "cell_type": "markdown",
   "metadata": {},
   "source": [
    "Este arquivo é uma amostra do do dataset original em formato Parquet.\n",
    "\n",
    "A amostra foi de 5% do conteúdo original.\n",
    "\n",
    "Após amostragem, os seguintes filtros foram aplicados:\n",
    "\n",
    "- Distância (trip_distance) >= 1\n",
    "- Meio de pagamento Cartão (payment_type = 1)\n",
    "- 'Taxa Gorjeta' entre 0 e 0.99"
   ]
  },
  {
   "cell_type": "code",
   "execution_count": 8,
   "metadata": {},
   "outputs": [
    {
     "name": "stdout",
     "output_type": "stream",
     "text": [
      "Parse progress: |█████████████████████████████████████████████████████████| 100%\n"
     ]
    }
   ],
   "source": [
    "h2o_nyc_data = h2o.import_file(\"../data/nyc_yellow_taxi_sample.csv.gz\",\n",
    "                               destination_frame=\"nyc_data\",\n",
    "                               header=1,\n",
    "                               sep=\",\")"
   ]
  },
  {
   "cell_type": "markdown",
   "metadata": {},
   "source": [
    "##### Colunas disponíveis no H2OFrame:"
   ]
  },
  {
   "cell_type": "code",
   "execution_count": 9,
   "metadata": {},
   "outputs": [
    {
     "data": {
      "text/plain": [
       "['tpep_pickup_datetime',\n",
       " 'tpep_dropoff_datetime',\n",
       " 'passenger_count',\n",
       " 'trip_distance',\n",
       " 'pulocationid',\n",
       " 'dolocationid',\n",
       " 'ratecodeid',\n",
       " 'fare_amount',\n",
       " 'extra',\n",
       " 'mta_tax',\n",
       " 'improvement_surcharge',\n",
       " 'Tip_amount',\n",
       " 'Tolls_amount',\n",
       " 'Total_amount']"
      ]
     },
     "execution_count": 9,
     "metadata": {},
     "output_type": "execute_result"
    }
   ],
   "source": [
    "h2o_nyc_data.col_names"
   ]
  },
  {
   "cell_type": "markdown",
   "metadata": {},
   "source": [
    "##### Dimensões do H2OFrame:"
   ]
  },
  {
   "cell_type": "code",
   "execution_count": 10,
   "metadata": {},
   "outputs": [
    {
     "data": {
      "text/plain": [
       "[4487239, 14]"
      ]
     },
     "execution_count": 10,
     "metadata": {},
     "output_type": "execute_result"
    }
   ],
   "source": [
    "h2o_nyc_data.dim"
   ]
  },
  {
   "cell_type": "markdown",
   "metadata": {},
   "source": [
    "#### Criação de algumas features discutidas em aula"
   ]
  },
  {
   "cell_type": "markdown",
   "metadata": {},
   "source": [
    "Todas as features abaixo utilizam operadores e funções disponíveis no H2O.\n",
    "\n",
    "A conversão de 'dayOfWeek' para factor utiliza a abreviatura do dia da semana."
   ]
  },
  {
   "cell_type": "code",
   "execution_count": 12,
   "metadata": {},
   "outputs": [],
   "source": [
    "h2o_nyc_data['tip_rate'] = h2o_nyc_data['Tip_amount'] / h2o_nyc_data['Total_amount']\n",
    "\n",
    "h2o_nyc_data['pickup_hour'] = h2o_nyc_data['tpep_pickup_datetime'].hour()\n",
    "#dayOfWeek é uma função do h2o\n",
    "h2o_nyc_data['pickup_weekday'] = h2o_nyc_data['tpep_pickup_datetime'].dayOfWeek().asfactor()"
   ]
  },
  {
   "cell_type": "markdown",
   "metadata": {},
   "source": [
    "#### Um resumo do formato e conteúdo das variáveis.\n",
    "\n",
    "**Vejam nos mínimos e máximos se existem valores que podem afetar o desempenho do modelo.**"
   ]
  },
  {
   "cell_type": "code",
   "execution_count": 13,
   "metadata": {},
   "outputs": [
    {
     "name": "stdout",
     "output_type": "stream",
     "text": [
      "Rows:4487239\n",
      "Cols:17\n",
      "\n",
      "\n"
     ]
    },
    {
     "data": {
      "text/html": [
       "<table>\n",
       "<thead>\n",
       "<tr><th>       </th><th>tpep_pickup_datetime  </th><th>tpep_dropoff_datetime  </th><th>passenger_count   </th><th>trip_distance     </th><th>pulocationid      </th><th>dolocationid      </th><th>ratecodeid        </th><th>fare_amount       </th><th>extra             </th><th>mta_tax           </th><th>improvement_surcharge  </th><th>Tip_amount        </th><th>Tolls_amount       </th><th>Total_amount      </th><th>tip_rate           </th><th>pickup_hour       </th><th>pickup_weekday  </th></tr>\n",
       "</thead>\n",
       "<tbody>\n",
       "<tr><td>type   </td><td>time                  </td><td>time                   </td><td>int               </td><td>real              </td><td>int               </td><td>int               </td><td>int               </td><td>real              </td><td>real              </td><td>real              </td><td>real                   </td><td>real              </td><td>real               </td><td>real              </td><td>real               </td><td>int               </td><td>enum            </td></tr>\n",
       "<tr><td>mins   </td><td>1230809501000.0       </td><td>1230811121000.0        </td><td>0.0               </td><td>1.0               </td><td>1.0               </td><td>1.0               </td><td>1.0               </td><td>0.33              </td><td>-10.6             </td><td>0.0               </td><td>0.0                    </td><td>0.0               </td><td>0.0                </td><td>0.33              </td><td>0.0                </td><td>0.0               </td><td>                </td></tr>\n",
       "<tr><td>mean   </td><td>1498508399688.337     </td><td>1498509575197.6294     </td><td>1.6091090757590576</td><td>3.8096985206270504</td><td>161.80084323567365</td><td>159.14128732612633</td><td>1.0456057722800087</td><td>15.671919784081028</td><td>0.370041069798156 </td><td>0.4978416683399289</td><td>0.29999104126167836    </td><td>3.1381111168805567</td><td>0.49643400095247914</td><td>20.480890794985633</td><td>0.15209084854915264</td><td>13.750892252451921</td><td>                </td></tr>\n",
       "<tr><td>maxs   </td><td>1512061372000.0       </td><td>1512146986000.0        </td><td>192.0             </td><td>183.7             </td><td>265.0             </td><td>265.0             </td><td>99.0              </td><td>465.5             </td><td>10.0              </td><td>11.4              </td><td>0.3                    </td><td>110.0             </td><td>95.76              </td><td>552.57            </td><td>0.49358341559723595</td><td>23.0              </td><td>                </td></tr>\n",
       "<tr><td>sigma  </td><td>9238355312.782312     </td><td>9238409669.085747      </td><td>1.2616635046544722</td><td>4.1146427999242965</td><td>65.59491392448841 </td><td>71.37036450617535 </td><td>0.2849347571494506</td><td>11.965825624516713</td><td>0.4875973754721276</td><td>0.0333168296742776</td><td>0.0016393723912689214  </td><td>2.746178963080608 </td><td>1.7949487333486154 </td><td>15.563014992495331</td><td>0.05009760293882924</td><td>6.485928844692992 </td><td>                </td></tr>\n",
       "<tr><td>zeros  </td><td>0                     </td><td>0                      </td><td>5711              </td><td>0                 </td><td>0                 </td><td>0                 </td><td>0                 </td><td>0                 </td><td>2144685           </td><td>19474             </td><td>134                    </td><td>177766            </td><td>4126412            </td><td>0                 </td><td>177766             </td><td>167070            </td><td>                </td></tr>\n",
       "<tr><td>missing</td><td>0                     </td><td>0                      </td><td>0                 </td><td>0                 </td><td>0                 </td><td>0                 </td><td>0                 </td><td>0                 </td><td>0                 </td><td>0                 </td><td>0                      </td><td>0                 </td><td>0                  </td><td>0                 </td><td>0                  </td><td>0                 </td><td>0               </td></tr>\n",
       "<tr><td>0      </td><td>2017-11-25 10:50:58   </td><td>2017-11-25 11:06:01    </td><td>1.0               </td><td>3.8               </td><td>68.0              </td><td>209.0             </td><td>1.0               </td><td>14.5              </td><td>0.0               </td><td>0.5               </td><td>0.3                    </td><td>3.05              </td><td>0.0                </td><td>18.35             </td><td>0.1662125340599455 </td><td>10.0              </td><td>Sat             </td></tr>\n",
       "<tr><td>1      </td><td>2017-11-25 10:37:41   </td><td>2017-11-25 10:48:01    </td><td>1.0               </td><td>1.28              </td><td>162.0             </td><td>163.0             </td><td>1.0               </td><td>8.5               </td><td>0.0               </td><td>0.5               </td><td>0.3                    </td><td>1.86              </td><td>0.0                </td><td>11.16             </td><td>0.16666666666666669</td><td>10.0              </td><td>Sat             </td></tr>\n",
       "<tr><td>2      </td><td>2017-11-25 10:56:28   </td><td>2017-11-25 11:04:18    </td><td>1.0               </td><td>1.41              </td><td>163.0             </td><td>43.0              </td><td>1.0               </td><td>7.5               </td><td>0.0               </td><td>0.5               </td><td>0.3                    </td><td>1.0               </td><td>0.0                </td><td>9.3               </td><td>0.1075268817204301 </td><td>10.0              </td><td>Sat             </td></tr>\n",
       "<tr><td>3      </td><td>2017-11-25 10:21:15   </td><td>2017-11-25 10:27:46    </td><td>1.0               </td><td>1.34              </td><td>42.0              </td><td>75.0              </td><td>1.0               </td><td>7.0               </td><td>0.0               </td><td>0.5               </td><td>0.3                    </td><td>2.34              </td><td>0.0                </td><td>10.14             </td><td>0.23076923076923075</td><td>10.0              </td><td>Sat             </td></tr>\n",
       "<tr><td>4      </td><td>2017-11-25 10:39:13   </td><td>2017-11-25 10:58:32    </td><td>1.0               </td><td>4.09              </td><td>142.0             </td><td>79.0              </td><td>1.0               </td><td>16.5              </td><td>0.0               </td><td>0.5               </td><td>0.3                    </td><td>3.0               </td><td>0.0                </td><td>20.3              </td><td>0.14778325123152708</td><td>10.0              </td><td>Sat             </td></tr>\n",
       "<tr><td>5      </td><td>2017-11-25 10:52:23   </td><td>2017-11-25 11:16:11    </td><td>1.0               </td><td>10.7              </td><td>138.0             </td><td>164.0             </td><td>1.0               </td><td>32.0              </td><td>0.0               </td><td>0.5               </td><td>0.3                    </td><td>7.71              </td><td>5.76               </td><td>46.27             </td><td>0.1666306462070456 </td><td>10.0              </td><td>Sat             </td></tr>\n",
       "<tr><td>6      </td><td>2017-11-25 10:25:39   </td><td>2017-11-25 10:32:00    </td><td>1.0               </td><td>1.2               </td><td>237.0             </td><td>142.0             </td><td>1.0               </td><td>6.5               </td><td>0.0               </td><td>0.5               </td><td>0.3                    </td><td>1.45              </td><td>0.0                </td><td>8.75              </td><td>0.1657142857142857 </td><td>10.0              </td><td>Sat             </td></tr>\n",
       "<tr><td>7      </td><td>2017-11-25 10:29:58   </td><td>2017-11-25 10:39:30    </td><td>1.0               </td><td>1.96              </td><td>246.0             </td><td>161.0             </td><td>1.0               </td><td>9.0               </td><td>0.0               </td><td>0.5               </td><td>0.3                    </td><td>1.8               </td><td>0.0                </td><td>11.6              </td><td>0.15517241379310345</td><td>10.0              </td><td>Sat             </td></tr>\n",
       "<tr><td>8      </td><td>2017-11-25 10:55:55   </td><td>2017-11-25 11:09:17    </td><td>1.0               </td><td>3.41              </td><td>170.0             </td><td>231.0             </td><td>1.0               </td><td>12.5              </td><td>0.0               </td><td>0.5               </td><td>0.3                    </td><td>2.66              </td><td>0.0                </td><td>15.96             </td><td>0.16666666666666666</td><td>10.0              </td><td>Sat             </td></tr>\n",
       "<tr><td>9      </td><td>2017-11-25 10:32:13   </td><td>2017-11-25 10:56:50    </td><td>1.0               </td><td>5.3               </td><td>162.0             </td><td>97.0              </td><td>1.0               </td><td>21.0              </td><td>0.0               </td><td>0.5               </td><td>0.3                    </td><td>4.0               </td><td>0.0                </td><td>25.8              </td><td>0.15503875968992248</td><td>10.0              </td><td>Sat             </td></tr>\n",
       "</tbody>\n",
       "</table>"
      ]
     },
     "metadata": {},
     "output_type": "display_data"
    }
   ],
   "source": [
    "h2o_nyc_data.describe()\n",
    "#Verificar passenger_count pois tem minimo zero\n"
   ]
  },
  {
   "cell_type": "markdown",
   "metadata": {},
   "source": [
    "#### Inspeção das variáveis\n",
    "\n",
    "Acesse o H2O Flow pelo comando abaixo, visualize o H2OFrame 'nyc_data' e analise as distribuições das variáveis que compõe o dataset. Pelas distribuições, você identifica outros valores que podem interferir na qualidade do modelo? Pense em valores extremos e valores pouco freqüentes. E na nossa variável dependente, 'tip_rate', você considera que valores fora das faixas comuns são facilmente capturáveis por um modelo?"
   ]
  },
  {
   "cell_type": "code",
   "execution_count": 14,
   "metadata": {},
   "outputs": [],
   "source": [
    "#nao vamos conseguir programar dentro do flow. mas é possível fazer as outras funcionalidades como criação do modelo,\n",
    "#divisão dos dados e etc..\n",
    "#clicar em frames e listará os frames criados no h2o\n",
    "#ao clicar no frame original, não será possível visualizar as colunas novas\n",
    "#clicando nos dataframes adicionais, estarão contidas as colunas novas.\n",
    "\n",
    "#Isso ocorre pois os dataframes são imutáveis, dessa maneira ele cria novos porém sem perder a referência\n",
    "#ao clicar nas colunas é possível ver um sumário, indicando minimo máximo e etc...\n",
    "#é possível ver que o passenger_count tem quantidade de 102\n",
    "h2o.flow()"
   ]
  },
  {
   "cell_type": "markdown",
   "metadata": {},
   "source": [
    "#### Treino e avaliação de modelos de regressão com H2O"
   ]
  },
  {
   "cell_type": "markdown",
   "metadata": {},
   "source": [
    "**Divisão em Treino, Teste e Validação.**\n",
    "\n",
    "Se o treino for muito lento, sugiro a redução do dataset de Treino para .6 e Validação para 0.15. Qual deve ser o tamanho do dataset de Teste?"
   ]
  },
  {
   "cell_type": "code",
   "execution_count": 15,
   "metadata": {},
   "outputs": [],
   "source": [
    "#trocado para 60% de treino, 25% de teste e 15% de validação\n",
    "train, test, valid = h2o_nyc_data.split_frame(ratios=[.6, .25], seed=42)"
   ]
  },
  {
   "cell_type": "markdown",
   "metadata": {},
   "source": [
    "#### Regressão Linear com GLM\n",
    "\n",
    "Detalhes de algoritmo e parâmetros discutidos em aula: [link para documentação](http://docs.h2o.ai/h2o/latest-stable/h2o-docs/data-science/glm.html)"
   ]
  },
  {
   "cell_type": "code",
   "execution_count": 19,
   "metadata": {},
   "outputs": [
    {
     "name": "stdout",
     "output_type": "stream",
     "text": [
      "glm Model Build progress: |███████████████████████████████████████████████| 100%\n"
     ]
    }
   ],
   "source": [
    "#Geração de um modelo de regressão linear\n",
    "#Lambda irá fazer com que o modelo verifique os melhores parametros\n",
    "\n",
    "from h2o.estimators.glm import *\n",
    "\n",
    "taxi_regression = H2OGeneralizedLinearEstimator(family=\"gaussian\", model_id=\"taxi_glm_regression\",\n",
    "                                                alpha=[0.01, 0.05, 0.5, 0.95], lambda_search=True, nlambdas=75, \n",
    "                                                remove_collinear_columns=True)\n",
    "\n",
    "taxi_regression.train(y=\"tip_rate\", \n",
    "                      x=['passenger_count', 'trip_distance', 'fare_amount', 'extra', 'mta_tax', \n",
    "                         'Tolls_amount', 'pickup_hour', 'pickup_weekday'], \n",
    "                      training_frame=train,\n",
    "                      validation_frame=valid)\n"
   ]
  },
  {
   "cell_type": "markdown",
   "metadata": {},
   "source": [
    "#### Detalhes do modelo"
   ]
  },
  {
   "cell_type": "code",
   "execution_count": 20,
   "metadata": {
    "scrolled": false
   },
   "outputs": [
    {
     "data": {
      "application/javascript": [
       "IPython.OutputArea.auto_scroll_threshold = 9999;"
      ],
      "text/plain": [
       "<IPython.core.display.Javascript object>"
      ]
     },
     "metadata": {},
     "output_type": "display_data"
    }
   ],
   "source": [
    "%%javascript\n",
    "IPython.OutputArea.auto_scroll_threshold = 9999;"
   ]
  },
  {
   "cell_type": "code",
   "execution_count": 21,
   "metadata": {
    "scrolled": false
   },
   "outputs": [
    {
     "name": "stdout",
     "output_type": "stream",
     "text": [
      "Model Details\n",
      "=============\n",
      "H2OGeneralizedLinearEstimator :  Generalized Linear Modeling\n",
      "Model Key:  taxi_glm_regression\n",
      "\n",
      "\n",
      "ModelMetricsRegressionGLM: glm\n",
      "** Reported on train data. **\n",
      "\n",
      "MSE: 0.0024946181493112215\n",
      "RMSE: 0.04994615249757704\n",
      "MAE: 0.03570634121131596\n",
      "RMSLE: 0.04455336609310028\n",
      "R^2: 0.006455861477070224\n",
      "Mean Residual Deviance: 0.0024946181493112215\n",
      "Null degrees of freedom: 2692509\n",
      "Residual degrees of freedom: 2692496\n",
      "Null deviance: 6760.428704382892\n",
      "Residual deviance: 6716.784313201957\n",
      "AIC: -8496838.350280475\n",
      "\n",
      "ModelMetricsRegressionGLM: glm\n",
      "** Reported on validation data. **\n",
      "\n",
      "MSE: 0.0024926244871924436\n",
      "RMSE: 0.04992619039334409\n",
      "MAE: 0.035699676614240464\n",
      "RMSLE: 0.04453992647396223\n",
      "R^2: 0.006594209917148985\n",
      "Mean Residual Deviance: 0.0024926244871924436\n",
      "Null degrees of freedom: 673151\n",
      "Residual degrees of freedom: 673138\n",
      "Null deviance: 1689.054501722237\n",
      "Residual deviance: 1677.915158802568\n",
      "AIC: -2124802.591520659\n",
      "Scoring History: \n"
     ]
    },
    {
     "data": {
      "text/html": [
       "<div style=\"overflow:auto\"><table style=\"width:50%\"><tr><td><b></b></td>\n",
       "<td><b>timestamp</b></td>\n",
       "<td><b>duration</b></td>\n",
       "<td><b>iteration</b></td>\n",
       "<td><b>lambda</b></td>\n",
       "<td><b>predictors</b></td>\n",
       "<td><b>deviance_train</b></td>\n",
       "<td><b>deviance_test</b></td></tr>\n",
       "<tr><td></td>\n",
       "<td>2018-07-10 20:31:36</td>\n",
       "<td> 0.000 sec</td>\n",
       "<td>1</td>\n",
       "<td>,26E0</td>\n",
       "<td>1</td>\n",
       "<td>0.0025108</td>\n",
       "<td>0.0025092</td></tr>\n",
       "<tr><td></td>\n",
       "<td>2018-07-10 20:31:37</td>\n",
       "<td> 0.199 sec</td>\n",
       "<td>2</td>\n",
       "<td>,23E0</td>\n",
       "<td>2</td>\n",
       "<td>0.0025096</td>\n",
       "<td>0.0025079</td></tr>\n",
       "<tr><td></td>\n",
       "<td>2018-07-10 20:31:37</td>\n",
       "<td> 0.346 sec</td>\n",
       "<td>3</td>\n",
       "<td>,2E0</td>\n",
       "<td>2</td>\n",
       "<td>0.0025085</td>\n",
       "<td>0.0025068</td></tr>\n",
       "<tr><td></td>\n",
       "<td>2018-07-10 20:31:37</td>\n",
       "<td> 0.483 sec</td>\n",
       "<td>4</td>\n",
       "<td>,18E0</td>\n",
       "<td>2</td>\n",
       "<td>0.0025077</td>\n",
       "<td>0.0025059</td></tr>\n",
       "<tr><td></td>\n",
       "<td>2018-07-10 20:31:37</td>\n",
       "<td> 0.603 sec</td>\n",
       "<td>5</td>\n",
       "<td>,16E0</td>\n",
       "<td>2</td>\n",
       "<td>0.0025070</td>\n",
       "<td>0.0025052</td></tr>\n",
       "<tr><td>---</td>\n",
       "<td>---</td>\n",
       "<td>---</td>\n",
       "<td>---</td>\n",
       "<td>---</td>\n",
       "<td>---</td>\n",
       "<td>---</td>\n",
       "<td>---</td></tr>\n",
       "<tr><td></td>\n",
       "<td>2018-07-10 20:31:41</td>\n",
       "<td> 4.275 sec</td>\n",
       "<td>26</td>\n",
       "<td>,12E-1</td>\n",
       "<td>12</td>\n",
       "<td>0.0024953</td>\n",
       "<td>0.0024933</td></tr>\n",
       "<tr><td></td>\n",
       "<td>2018-07-10 20:31:41</td>\n",
       "<td> 4.383 sec</td>\n",
       "<td>27</td>\n",
       "<td>,1E-1</td>\n",
       "<td>13</td>\n",
       "<td>0.0024951</td>\n",
       "<td>0.0024931</td></tr>\n",
       "<tr><td></td>\n",
       "<td>2018-07-10 20:31:41</td>\n",
       "<td> 4.500 sec</td>\n",
       "<td>28</td>\n",
       "<td>,91E-2</td>\n",
       "<td>13</td>\n",
       "<td>0.0024949</td>\n",
       "<td>0.0024929</td></tr>\n",
       "<tr><td></td>\n",
       "<td>2018-07-10 20:31:41</td>\n",
       "<td> 4.613 sec</td>\n",
       "<td>29</td>\n",
       "<td>,8E-2</td>\n",
       "<td>14</td>\n",
       "<td>0.0024948</td>\n",
       "<td>0.0024928</td></tr>\n",
       "<tr><td></td>\n",
       "<td>2018-07-10 20:31:41</td>\n",
       "<td> 4.730 sec</td>\n",
       "<td>30</td>\n",
       "<td>,71E-2</td>\n",
       "<td>14</td>\n",
       "<td>0.0024946</td>\n",
       "<td>0.0024926</td></tr></table></div>"
      ],
      "text/plain": [
       "     timestamp            duration    iteration    lambda    predictors    deviance_train         deviance_test\n",
       "---  -------------------  ----------  -----------  --------  ------------  ---------------------  ---------------------\n",
       "     2018-07-10 20:31:36  0.000 sec   1            ,26E0     1             0.0025108276430705376  0.002509172460936124\n",
       "     2018-07-10 20:31:37  0.199 sec   2            ,23E0     2             0.002509578956313733   0.0025078923927812154\n",
       "     2018-07-10 20:31:37  0.346 sec   3            ,2E0      2             0.0025085350323237133  0.00250682042144935\n",
       "     2018-07-10 20:31:37  0.483 sec   4            ,18E0     2             0.0025076681957954235  0.0025059285914812786\n",
       "     2018-07-10 20:31:37  0.603 sec   5            ,16E0     2             0.002506952891015779   0.002505191069955736\n",
       "---  ---                  ---         ---          ---       ---           ---                    ---\n",
       "     2018-07-10 20:31:41  4.275 sec   26           ,12E-1    12            0.0024952607040331265  0.0024933229557460115\n",
       "     2018-07-10 20:31:41  4.383 sec   27           ,1E-1     13            0.0024950619048514184  0.0024931080823628613\n",
       "     2018-07-10 20:31:41  4.500 sec   28           ,91E-2    13            0.002494895005697533   0.002492926970402645\n",
       "     2018-07-10 20:31:41  4.613 sec   29           ,8E-2     14            0.002494750038021338   0.0024927689428129564\n",
       "     2018-07-10 20:31:41  4.730 sec   30           ,71E-2    14            0.0024946180877817577  0.0024926244263824273"
      ]
     },
     "metadata": {},
     "output_type": "display_data"
    },
    {
     "data": {
      "text/plain": []
     },
     "execution_count": 21,
     "metadata": {},
     "output_type": "execute_result"
    }
   ],
   "source": [
    "taxi_regression\n",
    "#R² Indica a variância entre a média de distância do valor predito e o valor real"
   ]
  },
  {
   "cell_type": "markdown",
   "metadata": {},
   "source": [
    "##### Hiperparâmetros utilizados para Elastic Net"
   ]
  },
  {
   "cell_type": "code",
   "execution_count": 22,
   "metadata": {},
   "outputs": [
    {
     "name": "stdout",
     "output_type": "stream",
     "text": [
      "GLM Model: summary\n",
      "\n"
     ]
    },
    {
     "data": {
      "text/html": [
       "<div style=\"overflow:auto\"><table style=\"width:50%\"><tr><td><b></b></td>\n",
       "<td><b>family</b></td>\n",
       "<td><b>link</b></td>\n",
       "<td><b>regularization</b></td>\n",
       "<td><b>lambda_search</b></td>\n",
       "<td><b>number_of_predictors_total</b></td>\n",
       "<td><b>number_of_active_predictors</b></td>\n",
       "<td><b>number_of_iterations</b></td>\n",
       "<td><b>training_frame</b></td></tr>\n",
       "<tr><td></td>\n",
       "<td>gaussian</td>\n",
       "<td>identity</td>\n",
       "<td>Elastic Net (alpha = 0.01, lambda = 0.007103 )</td>\n",
       "<td>nlambda = 75, lambda.max = 0.2624, lambda.min = 0.007103, lambda.1se = -1.0</td>\n",
       "<td>14</td>\n",
       "<td>13</td>\n",
       "<td>30</td>\n",
       "<td>py_12_sid_9656</td></tr></table></div>"
      ],
      "text/plain": [
       "    family    link      regularization                                  lambda_search                                                                number_of_predictors_total    number_of_active_predictors    number_of_iterations    training_frame\n",
       "--  --------  --------  ----------------------------------------------  ---------------------------------------------------------------------------  ----------------------------  -----------------------------  ----------------------  ----------------\n",
       "    gaussian  identity  Elastic Net (alpha = 0.01, lambda = 0.007103 )  nlambda = 75, lambda.max = 0.2624, lambda.min = 0.007103, lambda.1se = -1.0  14                            13                             30                      py_12_sid_9656"
      ]
     },
     "metadata": {},
     "output_type": "display_data"
    },
    {
     "data": {
      "text/plain": []
     },
     "execution_count": 22,
     "metadata": {},
     "output_type": "execute_result"
    }
   ],
   "source": [
    "taxi_regression.summary()"
   ]
  },
  {
   "cell_type": "markdown",
   "metadata": {},
   "source": [
    "#### Importância das variáveis do modelo\n",
    "\n",
    "GLM utiliza o peso e sinal dos coeficientes."
   ]
  },
  {
   "cell_type": "code",
   "execution_count": 32,
   "metadata": {},
   "outputs": [
    {
     "name": "stdout",
     "output_type": "stream",
     "text": [
      "Variable importance does not apply to GLM. Will use std_coef_plot() instead.\n"
     ]
    },
    {
     "name": "stderr",
     "output_type": "stream",
     "text": [
      "C:\\Users\\alu201322578\\AppData\\Local\\conda\\conda\\envs\\Teste_aula\\lib\\site-packages\\matplotlib\\cbook\\deprecation.py:107: MatplotlibDeprecationWarning: Passing one of 'on', 'true', 'off', 'false' as a boolean is deprecated; use an actual boolean (True/False) instead.\n",
      "  warnings.warn(message, mplDeprecation, stacklevel=1)\n"
     ]
    },
    {
     "data": {
      "image/png": "[encoded data removed]",
      "text/plain": [
       "<Figure size 1008x720 with 1 Axes>"
      ]
     },
     "metadata": {},
     "output_type": "display_data"
    }
   ],
   "source": [
    "%matplotlib inline\n",
    "taxi_regression.varimp_plot()"
   ]
  },
  {
   "cell_type": "markdown",
   "metadata": {},
   "source": [
    "##### Performance (RMSE) no dataset de Testes"
   ]
  },
  {
   "cell_type": "code",
   "execution_count": 25,
   "metadata": {},
   "outputs": [
    {
     "data": {
      "text/plain": [
       "0.04991357893265516"
      ]
     },
     "execution_count": 25,
     "metadata": {},
     "output_type": "execute_result"
    }
   ],
   "source": [
    "glm_taxi_perf = taxi_regression.model_performance(test)\n",
    "\n",
    "glm_taxi_perf.rmse()"
   ]
  },
  {
   "cell_type": "markdown",
   "metadata": {},
   "source": [
    "**Capacidade explanatória** do modelo. Há muita variância por ser capturada para aumentar este resultado de R^2. \n",
    "\n",
    "Considere a criação de novas variáveis, remoção de variáveis em uso, e filtros de valores que podem estar aumentando muito a variância."
   ]
  },
  {
   "cell_type": "code",
   "execution_count": 26,
   "metadata": {},
   "outputs": [
    {
     "data": {
      "text/plain": [
       "0.006468011068820001"
      ]
     },
     "execution_count": 26,
     "metadata": {},
     "output_type": "execute_result"
    }
   ],
   "source": [
    "glm_taxi_perf.r2()"
   ]
  },
  {
   "cell_type": "code",
   "execution_count": 27,
   "metadata": {},
   "outputs": [],
   "source": [
    "from h2o.estimators.gbm import *\n",
    "\n",
    "taxi_gbm_regression = H2OGradientBoostingEstimator(distribution=\"gaussian\", model_id=\"taxi_gbm_regression\",\n",
    "                                                   ntrees=200, stopping_metric=\"rmse\", stopping_rounds=7, stopping_tolerance=0.0001,\n",
    "                                                   learn_rate=0.2, learn_rate_annealing=0.95,\n",
    "                                                   max_depth=5, min_rows=2, col_sample_rate=0.95, sample_rate=0.7)  \n"
   ]
  },
  {
   "cell_type": "code",
   "execution_count": 28,
   "metadata": {},
   "outputs": [
    {
     "name": "stdout",
     "output_type": "stream",
     "text": [
      "gbm Model Build progress: |███████████████████████████████████████████████| 100%\n"
     ]
    }
   ],
   "source": [
    "taxi_gbm_regression.train(y=\"tip_rate\", \n",
    "                          x=['passenger_count', 'trip_distance', 'fare_amount', 'extra', 'mta_tax', \n",
    "                             'Tolls_amount', 'pickup_hour', 'pickup_weekday'], \n",
    "                          training_frame=train,\n",
    "                          validation_frame=valid)\n"
   ]
  },
  {
   "cell_type": "code",
   "execution_count": 29,
   "metadata": {},
   "outputs": [
    {
     "name": "stdout",
     "output_type": "stream",
     "text": [
      "Model Details\n",
      "=============\n",
      "H2OGradientBoostingEstimator :  Gradient Boosting Machine\n",
      "Model Key:  taxi_gbm_regression\n",
      "\n",
      "\n",
      "ModelMetricsRegression: gbm\n",
      "** Reported on train data. **\n",
      "\n",
      "MSE: 0.0024805518771631833\n",
      "RMSE: 0.04980513906378722\n",
      "MAE: 0.03556423982141847\n",
      "RMSLE: 0.044428882125333274\n",
      "Mean Residual Deviance: 0.0024805518771631833\n",
      "\n",
      "ModelMetricsRegression: gbm\n",
      "** Reported on validation data. **\n",
      "\n",
      "MSE: 0.0024786611714940196\n",
      "RMSE: 0.049786154415600525\n",
      "MAE: 0.035555634611458845\n",
      "RMSLE: 0.04441618554006372\n",
      "Mean Residual Deviance: 0.0024786611714940196\n",
      "Scoring History: \n"
     ]
    },
    {
     "data": {
      "text/html": [
       "<div style=\"overflow:auto\"><table style=\"width:50%\"><tr><td><b></b></td>\n",
       "<td><b>timestamp</b></td>\n",
       "<td><b>duration</b></td>\n",
       "<td><b>number_of_trees</b></td>\n",
       "<td><b>training_rmse</b></td>\n",
       "<td><b>training_mae</b></td>\n",
       "<td><b>training_deviance</b></td>\n",
       "<td><b>validation_rmse</b></td>\n",
       "<td><b>validation_mae</b></td>\n",
       "<td><b>validation_deviance</b></td></tr>\n",
       "<tr><td></td>\n",
       "<td>2018-07-10 20:35:35</td>\n",
       "<td> 0.027 sec</td>\n",
       "<td>0.0</td>\n",
       "<td>0.0501082</td>\n",
       "<td>0.0358574</td>\n",
       "<td>0.0025108</td>\n",
       "<td>0.0500916</td>\n",
       "<td>0.0358536</td>\n",
       "<td>0.0025092</td></tr>\n",
       "<tr><td></td>\n",
       "<td>2018-07-10 20:35:38</td>\n",
       "<td> 3.404 sec</td>\n",
       "<td>1.0</td>\n",
       "<td>0.0500289</td>\n",
       "<td>0.0358045</td>\n",
       "<td>0.0025029</td>\n",
       "<td>0.0500113</td>\n",
       "<td>0.0357996</td>\n",
       "<td>0.0025011</td></tr>\n",
       "<tr><td></td>\n",
       "<td>2018-07-10 20:35:47</td>\n",
       "<td>11.971 sec</td>\n",
       "<td>14.0</td>\n",
       "<td>0.0498280</td>\n",
       "<td>0.0356045</td>\n",
       "<td>0.0024828</td>\n",
       "<td>0.0498061</td>\n",
       "<td>0.0355944</td>\n",
       "<td>0.0024807</td></tr>\n",
       "<tr><td></td>\n",
       "<td>2018-07-10 20:35:53</td>\n",
       "<td>18.556 sec</td>\n",
       "<td>25.0</td>\n",
       "<td>0.0498109</td>\n",
       "<td>0.0355743</td>\n",
       "<td>0.0024811</td>\n",
       "<td>0.0497905</td>\n",
       "<td>0.0355647</td>\n",
       "<td>0.0024791</td></tr>\n",
       "<tr><td></td>\n",
       "<td>2018-07-10 20:35:58</td>\n",
       "<td>23.431 sec</td>\n",
       "<td>34.0</td>\n",
       "<td>0.0498051</td>\n",
       "<td>0.0355642</td>\n",
       "<td>0.0024806</td>\n",
       "<td>0.0497862</td>\n",
       "<td>0.0355556</td>\n",
       "<td>0.0024787</td></tr>\n",
       "<tr><td></td>\n",
       "<td>2018-07-10 20:36:02</td>\n",
       "<td>27.663 sec</td>\n",
       "<td>63.0</td>\n",
       "<td>0.0498051</td>\n",
       "<td>0.0355642</td>\n",
       "<td>0.0024806</td>\n",
       "<td>0.0497862</td>\n",
       "<td>0.0355556</td>\n",
       "<td>0.0024787</td></tr>\n",
       "<tr><td></td>\n",
       "<td>2018-07-10 20:36:09</td>\n",
       "<td>33.805 sec</td>\n",
       "<td>106.0</td>\n",
       "<td>0.0498051</td>\n",
       "<td>0.0355642</td>\n",
       "<td>0.0024806</td>\n",
       "<td>0.0497862</td>\n",
       "<td>0.0355556</td>\n",
       "<td>0.0024787</td></tr>\n",
       "<tr><td></td>\n",
       "<td>2018-07-10 20:36:17</td>\n",
       "<td>42.484 sec</td>\n",
       "<td>166.0</td>\n",
       "<td>0.0498051</td>\n",
       "<td>0.0355642</td>\n",
       "<td>0.0024806</td>\n",
       "<td>0.0497862</td>\n",
       "<td>0.0355556</td>\n",
       "<td>0.0024787</td></tr>\n",
       "<tr><td></td>\n",
       "<td>2018-07-10 20:36:23</td>\n",
       "<td>48.153 sec</td>\n",
       "<td>200.0</td>\n",
       "<td>0.0498051</td>\n",
       "<td>0.0355642</td>\n",
       "<td>0.0024806</td>\n",
       "<td>0.0497862</td>\n",
       "<td>0.0355556</td>\n",
       "<td>0.0024787</td></tr></table></div>"
      ],
      "text/plain": [
       "    timestamp            duration    number_of_trees    training_rmse    training_mae    training_deviance    validation_rmse    validation_mae    validation_deviance\n",
       "--  -------------------  ----------  -----------------  ---------------  --------------  -------------------  -----------------  ----------------  ---------------------\n",
       "    2018-07-10 20:35:35  0.027 sec   0                  0.0501082        0.0358574       0.00251083           0.0500916          0.0358536         0.00250917\n",
       "    2018-07-10 20:35:38  3.404 sec   1                  0.0500289        0.0358045       0.0025029            0.0500113          0.0357996         0.00250113\n",
       "    2018-07-10 20:35:47  11.971 sec  14                 0.049828         0.0356045       0.00248283           0.0498061          0.0355944         0.00248065\n",
       "    2018-07-10 20:35:53  18.556 sec  25                 0.0498109        0.0355743       0.00248113           0.0497905          0.0355647         0.00247909\n",
       "    2018-07-10 20:35:58  23.431 sec  34                 0.0498051        0.0355642       0.00248055           0.0497862          0.0355556         0.00247866\n",
       "    2018-07-10 20:36:02  27.663 sec  63                 0.0498051        0.0355642       0.00248055           0.0497862          0.0355556         0.00247866\n",
       "    2018-07-10 20:36:09  33.805 sec  106                0.0498051        0.0355642       0.00248055           0.0497862          0.0355556         0.00247866\n",
       "    2018-07-10 20:36:17  42.484 sec  166                0.0498051        0.0355642       0.00248055           0.0497862          0.0355556         0.00247866\n",
       "    2018-07-10 20:36:23  48.153 sec  200                0.0498051        0.0355642       0.00248055           0.0497862          0.0355556         0.00247866"
      ]
     },
     "metadata": {},
     "output_type": "display_data"
    },
    {
     "name": "stdout",
     "output_type": "stream",
     "text": [
      "Variable Importances: \n"
     ]
    },
    {
     "data": {
      "text/html": [
       "<div style=\"overflow:auto\"><table style=\"width:50%\"><tr><td><b>variable</b></td>\n",
       "<td><b>relative_importance</b></td>\n",
       "<td><b>scaled_importance</b></td>\n",
       "<td><b>percentage</b></td></tr>\n",
       "<tr><td>fare_amount</td>\n",
       "<td>105.9512482</td>\n",
       "<td>1.0</td>\n",
       "<td>0.4755758</td></tr>\n",
       "<tr><td>pickup_hour</td>\n",
       "<td>41.7861900</td>\n",
       "<td>0.3943907</td>\n",
       "<td>0.1875627</td></tr>\n",
       "<tr><td>trip_distance</td>\n",
       "<td>28.1924553</td>\n",
       "<td>0.2660889</td>\n",
       "<td>0.1265455</td></tr>\n",
       "<tr><td>pickup_weekday</td>\n",
       "<td>18.7004414</td>\n",
       "<td>0.1765004</td>\n",
       "<td>0.0839393</td></tr>\n",
       "<tr><td>Tolls_amount</td>\n",
       "<td>16.1370945</td>\n",
       "<td>0.1523068</td>\n",
       "<td>0.0724334</td></tr>\n",
       "<tr><td>mta_tax</td>\n",
       "<td>5.6750789</td>\n",
       "<td>0.0535631</td>\n",
       "<td>0.0254733</td></tr>\n",
       "<tr><td>extra</td>\n",
       "<td>5.6104870</td>\n",
       "<td>0.0529535</td>\n",
       "<td>0.0251834</td></tr>\n",
       "<tr><td>passenger_count</td>\n",
       "<td>0.7321982</td>\n",
       "<td>0.0069107</td>\n",
       "<td>0.0032866</td></tr></table></div>"
      ],
      "text/plain": [
       "variable         relative_importance    scaled_importance    percentage\n",
       "---------------  ---------------------  -------------------  ------------\n",
       "fare_amount      105.951                1                    0.475576\n",
       "pickup_hour      41.7862                0.394391             0.187563\n",
       "trip_distance    28.1925                0.266089             0.126545\n",
       "pickup_weekday   18.7004                0.1765               0.0839393\n",
       "Tolls_amount     16.1371                0.152307             0.0724334\n",
       "mta_tax          5.67508                0.0535631            0.0254733\n",
       "extra            5.61049                0.0529535            0.0251834\n",
       "passenger_count  0.732198               0.00691071           0.00328657"
      ]
     },
     "metadata": {},
     "output_type": "display_data"
    },
    {
     "data": {
      "text/plain": []
     },
     "execution_count": 29,
     "metadata": {},
     "output_type": "execute_result"
    }
   ],
   "source": [
    "taxi_gbm_regression"
   ]
  },
  {
   "cell_type": "code",
   "execution_count": 30,
   "metadata": {},
   "outputs": [
    {
     "name": "stdout",
     "output_type": "stream",
     "text": [
      "Model Summary: \n"
     ]
    },
    {
     "data": {
      "text/html": [
       "<div style=\"overflow:auto\"><table style=\"width:50%\"><tr><td><b></b></td>\n",
       "<td><b>number_of_trees</b></td>\n",
       "<td><b>number_of_internal_trees</b></td>\n",
       "<td><b>model_size_in_bytes</b></td>\n",
       "<td><b>min_depth</b></td>\n",
       "<td><b>max_depth</b></td>\n",
       "<td><b>mean_depth</b></td>\n",
       "<td><b>min_leaves</b></td>\n",
       "<td><b>max_leaves</b></td>\n",
       "<td><b>mean_leaves</b></td></tr>\n",
       "<tr><td></td>\n",
       "<td>200.0</td>\n",
       "<td>200.0</td>\n",
       "<td>28778.0</td>\n",
       "<td>0.0</td>\n",
       "<td>5.0</td>\n",
       "<td>0.85</td>\n",
       "<td>1.0</td>\n",
       "<td>32.0</td>\n",
       "<td>6.18</td></tr></table></div>"
      ],
      "text/plain": [
       "    number_of_trees    number_of_internal_trees    model_size_in_bytes    min_depth    max_depth    mean_depth    min_leaves    max_leaves    mean_leaves\n",
       "--  -----------------  --------------------------  ---------------------  -----------  -----------  ------------  ------------  ------------  -------------\n",
       "    200                200                         28778                  0            5            0.85          1             32            6.18"
      ]
     },
     "metadata": {},
     "output_type": "display_data"
    },
    {
     "data": {
      "text/plain": []
     },
     "execution_count": 30,
     "metadata": {},
     "output_type": "execute_result"
    }
   ],
   "source": [
    "taxi_gbm_regression.summary()"
   ]
  },
  {
   "cell_type": "markdown",
   "metadata": {},
   "source": [
    "Ao contrário do GLM, em GBM (e outros modelos) não temos a noção de sinal (positivo/negativo) pois não há relação monotônica entre a _feature_ e a variável resposta."
   ]
  },
  {
   "cell_type": "code",
   "execution_count": 31,
   "metadata": {},
   "outputs": [
    {
     "name": "stdout",
     "output_type": "stream",
     "text": [
      "`matplotlib` library is required for this function!\n"
     ]
    }
   ],
   "source": [
    "taxi_gbm_regression.varimp_plot()"
   ]
  },
  {
   "cell_type": "code",
   "execution_count": 33,
   "metadata": {},
   "outputs": [
    {
     "name": "stdout",
     "output_type": "stream",
     "text": [
      "gbm Grid Build progress: |████████████████████████████████████████████████| 100%\n"
     ]
    }
   ],
   "source": [
    "from h2o.grid.grid_search import H2OGridSearch\n",
    "\n",
    "gbm_params = {'learn_rate': [0.005, 0.01, 0.05, 0.1],\n",
    "              'max_depth': [3, 5, 8],\n",
    "              'sample_rate': [0.7, 0.85, 1.0],\n",
    "              'min_rows': [3, 5, 8, 13, 21],\n",
    "              'col_sample_rate': [0.7, 0.8, 0.95, 1.0]}\n",
    "\n",
    "# COMBINAÇÕES ALEATÓRIAS DURANTE 25 MINUTOS ATÉ UM MÁXIMO DE 15 MODELOS\n",
    "gbm_strategy = {'strategy': \"RandomDiscrete\", 'max_models': 15, 'max_runtime_secs': 25 * 60}\n",
    "\n",
    "gbm_grid = H2OGridSearch(model=H2OGradientBoostingEstimator,\n",
    "                         grid_id='gbm_grid_taxi',\n",
    "                         hyper_params=gbm_params,\n",
    "                         search_criteria=gbm_strategy)\n",
    "\n",
    "gbm_grid.train(y=\"tip_rate\", \n",
    "               x=['passenger_count', 'trip_distance', 'fare_amount', 'extra', 'mta_tax', \n",
    "                  'Tolls_amount', 'pickup_hour', 'pickup_weekday'], \n",
    "               training_frame=train, validation_frame=valid,\n",
    "               distribution=\"gaussian\",  \n",
    "               ntrees=200, stopping_metric=\"rmse\", stopping_rounds=7, stopping_tolerance=0.0005, seed=42)\n"
   ]
  },
  {
   "cell_type": "code",
   "execution_count": 34,
   "metadata": {},
   "outputs": [
    {
     "name": "stdout",
     "output_type": "stream",
     "text": [
      "Hyper-Parameter Search Summary: ordered by increasing rmse\n",
      "\n"
     ]
    },
    {
     "data": {
      "text/html": [
       "<div style=\"overflow:auto\"><table style=\"width:50%\"><tr><td><b></b></td>\n",
       "<td><b>col_sample_rate</b></td>\n",
       "<td><b>learn_rate</b></td>\n",
       "<td><b>max_depth</b></td>\n",
       "<td><b>min_rows</b></td>\n",
       "<td><b>sample_rate</b></td>\n",
       "<td><b>model_ids</b></td>\n",
       "<td><b>rmse</b></td></tr>\n",
       "<tr><td></td>\n",
       "<td>0.95</td>\n",
       "<td>0.05</td>\n",
       "<td>8</td>\n",
       "<td>13.0</td>\n",
       "<td>0.85</td>\n",
       "<td>gbm_grid_taxi_model_10</td>\n",
       "<td>0.0497707</td></tr>\n",
       "<tr><td></td>\n",
       "<td>0.7</td>\n",
       "<td>0.05</td>\n",
       "<td>8</td>\n",
       "<td>13.0</td>\n",
       "<td>0.7</td>\n",
       "<td>gbm_grid_taxi_model_8</td>\n",
       "<td>0.0497714</td></tr>\n",
       "<tr><td></td>\n",
       "<td>1.0</td>\n",
       "<td>0.1</td>\n",
       "<td>8</td>\n",
       "<td>21.0</td>\n",
       "<td>0.85</td>\n",
       "<td>gbm_grid_taxi_model_6</td>\n",
       "<td>0.0497733</td></tr>\n",
       "<tr><td></td>\n",
       "<td>0.95</td>\n",
       "<td>0.05</td>\n",
       "<td>5</td>\n",
       "<td>3.0</td>\n",
       "<td>0.7</td>\n",
       "<td>gbm_grid_taxi_model_9</td>\n",
       "<td>0.0497869</td></tr>\n",
       "<tr><td></td>\n",
       "<td>0.8</td>\n",
       "<td>0.1</td>\n",
       "<td>5</td>\n",
       "<td>21.0</td>\n",
       "<td>1.0</td>\n",
       "<td>gbm_grid_taxi_model_2</td>\n",
       "<td>0.0497877</td></tr>\n",
       "<tr><td></td>\n",
       "<td>0.7</td>\n",
       "<td>0.05</td>\n",
       "<td>5</td>\n",
       "<td>5.0</td>\n",
       "<td>1.0</td>\n",
       "<td>gbm_grid_taxi_model_13</td>\n",
       "<td>0.0497887</td></tr>\n",
       "<tr><td></td>\n",
       "<td>0.8</td>\n",
       "<td>0.01</td>\n",
       "<td>8</td>\n",
       "<td>13.0</td>\n",
       "<td>0.85</td>\n",
       "<td>gbm_grid_taxi_model_12</td>\n",
       "<td>0.0497964</td></tr>\n",
       "<tr><td></td>\n",
       "<td>0.95</td>\n",
       "<td>0.05</td>\n",
       "<td>3</td>\n",
       "<td>5.0</td>\n",
       "<td>0.85</td>\n",
       "<td>gbm_grid_taxi_model_14</td>\n",
       "<td>0.0498045</td></tr>\n",
       "<tr><td></td>\n",
       "<td>1.0</td>\n",
       "<td>0.01</td>\n",
       "<td>8</td>\n",
       "<td>8.0</td>\n",
       "<td>1.0</td>\n",
       "<td>gbm_grid_taxi_model_3</td>\n",
       "<td>0.0498060</td></tr>\n",
       "<tr><td></td>\n",
       "<td>0.95</td>\n",
       "<td>0.01</td>\n",
       "<td>5</td>\n",
       "<td>5.0</td>\n",
       "<td>0.85</td>\n",
       "<td>gbm_grid_taxi_model_5</td>\n",
       "<td>0.0498123</td></tr>\n",
       "<tr><td></td>\n",
       "<td>0.8</td>\n",
       "<td>0.01</td>\n",
       "<td>5</td>\n",
       "<td>3.0</td>\n",
       "<td>1.0</td>\n",
       "<td>gbm_grid_taxi_model_1</td>\n",
       "<td>0.0498131</td></tr>\n",
       "<tr><td></td>\n",
       "<td>0.7</td>\n",
       "<td>0.005</td>\n",
       "<td>8</td>\n",
       "<td>3.0</td>\n",
       "<td>1.0</td>\n",
       "<td>gbm_grid_taxi_model_11</td>\n",
       "<td>0.0498323</td></tr>\n",
       "<tr><td></td>\n",
       "<td>0.8</td>\n",
       "<td>0.005</td>\n",
       "<td>8</td>\n",
       "<td>21.0</td>\n",
       "<td>1.0</td>\n",
       "<td>gbm_grid_taxi_model_4</td>\n",
       "<td>0.0498372</td></tr>\n",
       "<tr><td></td>\n",
       "<td>1.0</td>\n",
       "<td>0.01</td>\n",
       "<td>3</td>\n",
       "<td>3.0</td>\n",
       "<td>1.0</td>\n",
       "<td>gbm_grid_taxi_model_0</td>\n",
       "<td>0.0498570</td></tr>\n",
       "<tr><td></td>\n",
       "<td>1.0</td>\n",
       "<td>0.01</td>\n",
       "<td>3</td>\n",
       "<td>5.0</td>\n",
       "<td>1.0</td>\n",
       "<td>gbm_grid_taxi_model_7</td>\n",
       "<td>0.0498573</td></tr></table></div>"
      ],
      "text/plain": [
       "    col_sample_rate    learn_rate    max_depth    min_rows    sample_rate    model_ids               rmse\n",
       "--  -----------------  ------------  -----------  ----------  -------------  ----------------------  ---------\n",
       "    0.95               0.05          8            13          0.85           gbm_grid_taxi_model_10  0.0497707\n",
       "    0.7                0.05          8            13          0.7            gbm_grid_taxi_model_8   0.0497714\n",
       "    1                  0.1           8            21          0.85           gbm_grid_taxi_model_6   0.0497733\n",
       "    0.95               0.05          5            3           0.7            gbm_grid_taxi_model_9   0.0497869\n",
       "    0.8                0.1           5            21          1              gbm_grid_taxi_model_2   0.0497877\n",
       "    0.7                0.05          5            5           1              gbm_grid_taxi_model_13  0.0497887\n",
       "    0.8                0.01          8            13          0.85           gbm_grid_taxi_model_12  0.0497964\n",
       "    0.95               0.05          3            5           0.85           gbm_grid_taxi_model_14  0.0498045\n",
       "    1                  0.01          8            8           1              gbm_grid_taxi_model_3   0.049806\n",
       "    0.95               0.01          5            5           0.85           gbm_grid_taxi_model_5   0.0498123\n",
       "    0.8                0.01          5            3           1              gbm_grid_taxi_model_1   0.0498131\n",
       "    0.7                0.005         8            3           1              gbm_grid_taxi_model_11  0.0498323\n",
       "    0.8                0.005         8            21          1              gbm_grid_taxi_model_4   0.0498372\n",
       "    1                  0.01          3            3           1              gbm_grid_taxi_model_0   0.049857\n",
       "    1                  0.01          3            5           1              gbm_grid_taxi_model_7   0.0498573"
      ]
     },
     "metadata": {},
     "output_type": "display_data"
    },
    {
     "name": "stdout",
     "output_type": "stream",
     "text": [
      "\n"
     ]
    },
    {
     "data": {
      "text/plain": []
     },
     "execution_count": 34,
     "metadata": {},
     "output_type": "execute_result"
    }
   ],
   "source": [
    "gbm_grid_performance = gbm_grid.get_grid(sort_by='rmse', decreasing=False)\n",
    "gbm_grid_performance"
   ]
  },
  {
   "cell_type": "code",
   "execution_count": 35,
   "metadata": {},
   "outputs": [
    {
     "data": {
      "text/plain": [
       "0.04976765286900136"
      ]
     },
     "execution_count": 35,
     "metadata": {},
     "output_type": "execute_result"
    }
   ],
   "source": [
    "best_gbm_taxi = gbm_grid_performance.models[0]\n",
    "\n",
    "gbm_taxi_perf = best_gbm_taxi.model_performance(test)\n",
    "\n",
    "gbm_taxi_perf.rmse()"
   ]
  },
  {
   "cell_type": "markdown",
   "metadata": {},
   "source": [
    "<h1>Criação de variáveis solicitadas em aula:</h1>"
   ]
  },
  {
   "cell_type": "code",
   "execution_count": 36,
   "metadata": {},
   "outputs": [],
   "source": [
    "h2o_nyc_data['TempoCorrida'] = ((h2o_nyc_data['tpep_dropoff_datetime'] - h2o_nyc_data['tpep_pickup_datetime']) / 1000) / 60\n",
    "h2o_nyc_data['PartidaCategorical'] = h2o_nyc_data['pulocationid'].asfactor()\n",
    "h2o_nyc_data['ChegadaCategorical'] = h2o_nyc_data['dolocationid'].asfactor()"
   ]
  },
  {
   "cell_type": "code",
   "execution_count": 40,
   "metadata": {},
   "outputs": [],
   "source": [
    "train, test, valid = h2o_nyc_data.split_frame(ratios=[.6, .25], seed=42)"
   ]
  },
  {
   "cell_type": "code",
   "execution_count": 41,
   "metadata": {},
   "outputs": [],
   "source": [
    "taxi_gbm_regression = H2OGradientBoostingEstimator(distribution=\"gaussian\", model_id=\"taxi_gbm_regression\",\n",
    "                                                   ntrees=200, stopping_metric=\"rmse\", stopping_rounds=7, stopping_tolerance=0.0001,\n",
    "                                                   learn_rate=0.2, learn_rate_annealing=0.95,\n",
    "                                                   max_depth=5, min_rows=2, col_sample_rate=0.95, sample_rate=0.7)  \n"
   ]
  },
  {
   "cell_type": "code",
   "execution_count": 42,
   "metadata": {},
   "outputs": [
    {
     "name": "stdout",
     "output_type": "stream",
     "text": [
      "gbm Model Build progress: |███████████████████████████████████████████████| 100%\n"
     ]
    }
   ],
   "source": [
    "taxi_gbm_regression.train(y=\"tip_rate\", \n",
    "                          x=['passenger_count', 'trip_distance', 'fare_amount', 'extra', 'mta_tax', \n",
    "                             'Tolls_amount', 'pickup_hour', 'pickup_weekday', 'TempoCorrida', 'PartidaCategorical', 'ChegadaCategorical'], \n",
    "                          training_frame=train,\n",
    "                          validation_frame=valid)"
   ]
  },
  {
   "cell_type": "code",
   "execution_count": null,
   "metadata": {},
   "outputs": [],
   "source": []
  },
  {
   "cell_type": "code",
   "execution_count": null,
   "metadata": {},
   "outputs": [],
   "source": []
  },
  {
   "cell_type": "code",
   "execution_count": null,
   "metadata": {
    "collapsed": true
   },
   "outputs": [],
   "source": [
    "h2o.cluster().shutdown(prompt=False)"
   ]
  },
  {
   "cell_type": "code",
   "execution_count": null,
   "metadata": {
    "collapsed": true
   },
   "outputs": [],
   "source": []
  }
 ],
 "metadata": {
  "kernelspec": {
   "display_name": "Python 3",
   "language": "python",
   "name": "python3"
  },
  "language_info": {
   "codemirror_mode": {
    "name": "ipython",
    "version": 3
   },
   "file_extension": ".py",
   "mimetype": "text/x-python",
   "name": "python",
   "nbconvert_exporter": "python",
   "pygments_lexer": "ipython3",
   "version": "3.5.5"
  }
 },
 "nbformat": 4,
 "nbformat_minor": 1
}
